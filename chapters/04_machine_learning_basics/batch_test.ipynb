{
 "cells": [
  {
   "cell_type": "code",
   "execution_count": 3,
   "metadata": {},
   "outputs": [
    {
     "name": "stdout",
     "output_type": "stream",
     "text": [
      "start session\n",
      "[ 1210 18730 27870  1210 18730 27870  1210 18730 27870  1210]\n",
      "[18730 27870  1210 18730 27870  1210 18730 27870  1210 18730]\n",
      "[27870  1210 18730 27870  1210 18730 27870  1210 18730 27870]\n",
      "[ 1210 18730 27870  1210 18730 27870  1210 18730 27870  1210]\n",
      "[18730 27870  1210 18730 27870  1210 18730 27870  1210 18730]\n",
      "[27870  1210 18730 27870  1210 18730 27870  1210 18730 27870]\n",
      "[ 1210 18730 27870  1210 18730 27870  1210 18730 27870  1210]\n",
      "[18730 27870  1210 18730 27870  1210 18730 27870  1210 18730]\n",
      "[27870  1210 18730 27870  1210 18730 27870  1210 18730 27870]\n",
      "[ 1210 18730 27870  1210 18730 27870  1210 18730 27870  1210]\n",
      "stop batch\n"
     ]
    }
   ],
   "source": [
    "import tensorflow as tf\n",
    "import numpy as np\n",
    "import sys\n",
    "\n",
    "TRAINING_FILE = 'flight.csv'\n",
    "\n",
    "\n",
    "## read training data and label\n",
    "def read_data(file_name):\n",
    "    try:\n",
    "        csv_file = tf.train.string_input_producer([file_name], name='filename_queue')\n",
    "        textReader = tf.TextLineReader()\n",
    "        _, line = textReader.read(csv_file)\n",
    "        year, flight, time = tf.decode_csv(line, record_defaults=[[1900], [\"\"], [0]], field_delim=',')\n",
    "    except:\n",
    "        print(\"Unexpected error:\", sys.exc_info()[0])\n",
    "        exit()\n",
    "    return year, flight, time\n",
    "\n",
    "\n",
    "def read_data_batch(file_name, batch_size=10):\n",
    "    year, flight, time = read_data(file_name)\n",
    "    batch_year, batch_flight, batch_time = tf.train.batch([year, flight, time], batch_size=batch_size)\n",
    "\n",
    "    return batch_year, batch_flight, batch_time\n",
    "\n",
    "\n",
    "def main():\n",
    "    print('start session')\n",
    "    # coornator 위에 코드가 있어야 한다\n",
    "    # 데이타를 집어 넣기 전에 미리 그래프가 만들어져 있어야 함.\n",
    "    batch_year, batch_flight, batch_time = read_data_batch(TRAINING_FILE)\n",
    "    year = tf.placeholder(tf.int32, [None, ])\n",
    "    flight = tf.placeholder(tf.string, [None, ])\n",
    "    time = tf.placeholder(tf.int32, [None, ])\n",
    "\n",
    "    tt = time * 10\n",
    "\n",
    "    with tf.Session() as sess:\n",
    "        try:\n",
    "\n",
    "            coord = tf.train.Coordinator()\n",
    "            threads = tf.train.start_queue_runners(sess=sess, coord=coord)\n",
    "\n",
    "            for i in range(10):\n",
    "                y_, f_, t_ = sess.run([batch_year, batch_flight, batch_time])\n",
    "                print(sess.run(tt, feed_dict={time: t_}))\n",
    "\n",
    "            print('stop batch')\n",
    "            coord.request_stop()\n",
    "            coord.join(threads)\n",
    "        except:\n",
    "            print(\"Unexpected error:\", sys.exc_info()[0])\n",
    "\n",
    "\n",
    "main()\n"
   ]
  },
  {
   "cell_type": "code",
   "execution_count": null,
   "metadata": {
    "collapsed": true
   },
   "outputs": [],
   "source": []
  },
  {
   "cell_type": "code",
   "execution_count": 4,
   "metadata": {
    "collapsed": true
   },
   "outputs": [],
   "source": [
    "import tensorflow as tf"
   ]
  },
  {
   "cell_type": "code",
   "execution_count": 5,
   "metadata": {},
   "outputs": [
    {
     "name": "stdout",
     "output_type": "stream",
     "text": [
      "aaa\n"
     ]
    }
   ],
   "source": [
    "print(\"aaa\")"
   ]
  },
  {
   "cell_type": "code",
   "execution_count": null,
   "metadata": {
    "collapsed": true
   },
   "outputs": [],
   "source": []
  },
  {
   "cell_type": "code",
   "execution_count": null,
   "metadata": {
    "collapsed": true
   },
   "outputs": [],
   "source": []
  }
 ],
 "metadata": {
  "kernelspec": {
   "display_name": "Python 3",
   "language": "python",
   "name": "python3"
  },
  "language_info": {
   "codemirror_mode": {
    "name": "ipython",
    "version": 3
   },
   "file_extension": ".py",
   "mimetype": "text/x-python",
   "name": "python",
   "nbconvert_exporter": "python",
   "pygments_lexer": "ipython3",
   "version": "3.5.4"
  }
 },
 "nbformat": 4,
 "nbformat_minor": 1
}
